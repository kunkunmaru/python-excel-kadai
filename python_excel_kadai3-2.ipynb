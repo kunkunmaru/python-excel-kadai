{
  "nbformat": 4,
  "nbformat_minor": 0,
  "metadata": {
    "colab": {
      "provenance": [],
      "authorship_tag": "ABX9TyNpeC+GCp7HunmLeAV91MPj",
      "include_colab_link": true
    },
    "kernelspec": {
      "name": "python3",
      "display_name": "Python 3"
    },
    "language_info": {
      "name": "python"
    }
  },
  "cells": [
    {
      "cell_type": "markdown",
      "metadata": {
        "id": "view-in-github",
        "colab_type": "text"
      },
      "source": [
        "<a href=\"https://colab.research.google.com/github/kunkunmaru/python-excel-kadai/blob/main/python_excel_kadai3-2.ipynb\" target=\"_parent\"><img src=\"https://colab.research.google.com/assets/colab-badge.svg\" alt=\"Open In Colab\"/></a>"
      ]
    },
    {
      "cell_type": "code",
      "source": [
        "import pandas as pd\n",
        "import openpyxl\n",
        "\n",
        "#対象ファイルのリストを格納\n",
        "file_list=['2022_年間売上表.xlsx', '2023_年間売上表.xlsx']\n",
        "#結合処理データ格納用のからdf作成\n",
        "df = pd.DataFrame()\n",
        "\n",
        "#一つずつ読み込み\n",
        "for file_name in file_list:\n",
        "  temp_df = pd.read_excel(file_name, header=None)\n",
        "  temp_df.columns = ['売上年','商品','金額']\n",
        "  df = pd.concat([df,temp_df],ignore_index=True)\n",
        "\n",
        "#colomnsを指定の順にいれかえる\n",
        "df = df.reindex(columns=['商品','売上年','金額'])\n",
        "df = df.drop(12)\n",
        "df = df.drop(0)\n",
        "\n",
        "df2 = df.groupby(['商品','売上年'])['金額'].sum()\n",
        "\n",
        "#ソートする\n",
        "df2 = df.sort_values('商品',ascending=True)\n",
        "\n",
        "writer = pd.ExcelWriter('売上集計表.xlsx')\n",
        "df.to_excel(writer, sheet_name='売上集計表, index = False')\n",
        "writer.close()\n",
        "\n",
        "wb = openpyxl.load_workbook('売上集計表.xlsx')\n",
        "sheet = wb.active\n",
        "\n",
        "fill = openpyxl.styles.PatternFill (patternType='solid',\n",
        "                                    fgColor='F2F2F2')\n",
        "for rows in sheet['A1':'D1']:\n",
        "  for cell in rows:\n",
        "    cell.fill = fill\n",
        "\n",
        "wb.save('売上集計表.xlsx')\n",
        ""
      ],
      "metadata": {
        "id": "lkEWnKcE1Tj_"
      },
      "execution_count": 8,
      "outputs": []
    }
  ]
}