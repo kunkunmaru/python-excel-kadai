{
  "nbformat": 4,
  "nbformat_minor": 0,
  "metadata": {
    "colab": {
      "provenance": [],
      "authorship_tag": "ABX9TyMETSmzEUBBAb2SmBjTe7zi",
      "include_colab_link": true
    },
    "kernelspec": {
      "name": "python3",
      "display_name": "Python 3"
    },
    "language_info": {
      "name": "python"
    }
  },
  "cells": [
    {
      "cell_type": "markdown",
      "metadata": {
        "id": "view-in-github",
        "colab_type": "text"
      },
      "source": [
        "<a href=\"https://colab.research.google.com/github/kunkunmaru/python-excel-kadai/blob/main/kadao_001.ipynb\" target=\"_parent\"><img src=\"https://colab.research.google.com/assets/colab-badge.svg\" alt=\"Open In Colab\"/></a>"
      ]
    },
    {
      "cell_type": "code",
      "execution_count": 1,
      "metadata": {
        "id": "UsV9_pYNZi2J"
      },
      "outputs": [],
      "source": [
        "import openpyxl\n",
        "from datetime import datetime\n",
        "#ワークブックを作成\n",
        "workbook = openpyxl.Workbook()\n",
        "#アクティブシートを選択\n",
        "sheet = workbook.active\n",
        "\n",
        "sheet['B2'].value = '請求書'\n",
        "sheet['B4'].value = '株式会社ABC'\n",
        "sheet['B5'].value = '〒101-0022 東京都千代田区神田練塀町300'\n",
        "sheet['B6'].value = 'TEL:03-1234-5678 FAX:03-1234-5678'\n",
        "sheet['B7'].value = '担当者名:鈴木一郎 様'\n",
        "sheet['F4'].value = \"No.\"\n",
        "sheet['F5'].value = '日付'\n",
        "sheet['G4'].value = '0001'\n",
        "\n",
        "#cellG5に日付を代入\n",
        "sheet['G5'].value = datetime.now().strftime('%Y/%m/%d')\n",
        "\n",
        "#表を作成\n",
        "data = [\n",
        "    ['商品名','商品A','商品B'],\n",
        "    ['数量',2,1],\n",
        "    ['単価',10000,15000],\n",
        "    ['金額',20000,15000]\n",
        "]\n",
        "\n",
        "#表を挿入\n",
        "start_row = 10\n",
        "start_col = 2\n",
        "\n",
        "for i, col in enumerate(data):\n",
        "  for j, value in enumerate(col):\n",
        "    sheet.cell(row=start_row + j, column= start_col + i).value = value\n",
        "\n",
        "sheet['E11'].number_format = \"0\"\n",
        "\n",
        "#合計金額を代入\n",
        "sheet['E13'].value= '=SUM(E11:E12)'\n",
        "sheet['B15'].value = '合計'\n",
        "sheet['E15'].value= '=SUM(E11:E12)'\n",
        "\n",
        "#消費税を代入\n",
        "sheet['B16'].value = '消費税'\n",
        "sheet['E16'].value = '=E13*10%'\n",
        "\n",
        "#税込合計を代入\n",
        "sheet['B17'].value = '税込合計'\n",
        "sheet['E17'].value = '=SUM(E15:E16)'\n",
        "\n",
        "today = datetime.now().strftime('%Y%m%d')\n",
        "filename = f\"請求書_{today}.xlsx\"\n",
        "\n",
        "workbook.save(filename)"
      ]
    }
  ]
}